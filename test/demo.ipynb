{
 "cells": [
  {
   "cell_type": "code",
   "execution_count": 31,
   "id": "c48f4641",
   "metadata": {},
   "outputs": [
    {
     "name": "stdout",
     "output_type": "stream",
     "text": [
      "The autoreload extension is already loaded. To reload it, use:\n",
      "  %reload_ext autoreload\n"
     ]
    }
   ],
   "source": [
    "%load_ext autoreload\n",
    "%autoreload 2"
   ]
  },
  {
   "cell_type": "code",
   "execution_count": 32,
   "id": "a1ef5194",
   "metadata": {},
   "outputs": [
    {
     "name": "stderr",
     "output_type": "stream",
     "text": [
      "huggingface/tokenizers: The current process just got forked, after parallelism has already been used. Disabling parallelism to avoid deadlocks...\n",
      "To disable this warning, you can either:\n",
      "\t- Avoid using `tokenizers` before the fork if possible\n",
      "\t- Explicitly set the environment variable TOKENIZERS_PARALLELISM=(true | false)\n"
     ]
    }
   ],
   "source": [
    "!source ../tokens.sh "
   ]
  },
  {
   "cell_type": "code",
   "execution_count": 33,
   "id": "1b9da072",
   "metadata": {},
   "outputs": [],
   "source": [
    "import os\n",
    "import sys\n",
    "\n",
    "module_path = os.path.abspath(os.path.join('../src/')) # or the path to your source code\n",
    "sys.path.insert(0, module_path)"
   ]
  },
  {
   "cell_type": "code",
   "execution_count": 34,
   "id": "55556feb",
   "metadata": {},
   "outputs": [],
   "source": [
    "# This won't work directly, so instead manually set them:\n",
    "with open('../tokens.sh') as f:\n",
    "    for line in f:\n",
    "        if line.startswith('export'):\n",
    "            key, value = line.strip().split(' ')[1].split('=')\n",
    "            os.environ[key] = value\n",
    "\n",
    "# Now you can access the token\n",
    "if not (os.environ.get('HF_TOKEN') and os.environ.get('OPENROUTER_API_KEY')):\n",
    "    raise ValueError(\"Environment variables HF_TOKEN and OPENROUTER_API_KEY must be set.\") \n"
   ]
  },
  {
   "cell_type": "code",
   "execution_count": null,
   "id": "9f7555a2",
   "metadata": {},
   "outputs": [
    {
     "name": "stdout",
     "output_type": "stream",
     "text": [
      "* Running on local URL:  http://127.0.0.1:7866\n",
      "* To create a public link, set `share=True` in `launch()`.\n"
     ]
    },
    {
     "data": {
      "text/html": [
       "<div><iframe src=\"http://127.0.0.1:7866/\" width=\"100%\" height=\"500\" allow=\"autoplay; camera; microphone; clipboard-read; clipboard-write;\" frameborder=\"0\" allowfullscreen></iframe></div>"
      ],
      "text/plain": [
       "<IPython.core.display.HTML object>"
      ]
     },
     "metadata": {},
     "output_type": "display_data"
    },
    {
     "name": "stdout",
     "output_type": "stream",
     "text": [
      "User question:  what is a pki ?\n"
     ]
    }
   ],
   "source": [
    "from app import interactive_smart_assistant\n",
    "interactive_smart_assistant()"
   ]
  }
 ],
 "metadata": {
  "kernelspec": {
   "display_name": ".venv",
   "language": "python",
   "name": "python3"
  },
  "language_info": {
   "codemirror_mode": {
    "name": "ipython",
    "version": 3
   },
   "file_extension": ".py",
   "mimetype": "text/x-python",
   "name": "python",
   "nbconvert_exporter": "python",
   "pygments_lexer": "ipython3",
   "version": "3.10.12"
  }
 },
 "nbformat": 4,
 "nbformat_minor": 5
}
